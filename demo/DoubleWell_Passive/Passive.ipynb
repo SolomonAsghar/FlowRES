{
 "cells": [
  {
   "cell_type": "markdown",
   "id": "9321b035-6d9d-4c4e-8129-a598cb6333ef",
   "metadata": {
    "tags": []
   },
   "source": [
    "### Imports "
   ]
  },
  {
   "cell_type": "code",
   "execution_count": null,
   "id": "2bb77c2e-07be-4d3e-9a1e-60f09c656429",
   "metadata": {},
   "outputs": [],
   "source": [
    "import os\n",
    "os.environ['TF_CPP_MIN_LOG_LEVEL'] = '3' # Silence tensorflow alerts\n",
    "import tensorflow as tf"
   ]
  },
  {
   "cell_type": "code",
   "execution_count": null,
   "id": "c3b85fcf-8124-4f32-96df-1eadef4847ee",
   "metadata": {},
   "outputs": [],
   "source": [
    "import sys\n",
    "path_to_software_folder = sys.path[0][:-23] + 'software/'\n",
    "sys.path.append(path_to_software_folder) # Add the software folder to path, note that outside of the \"demo\" folder you will need to manually set \"path_to_software_folder\"\n",
    "from DoubleWell import DoubleWell\n",
    "from ProcessingNets import *\n",
    "from Network_Passive import *\n",
    "from FlowRES_MCMC_Passive import *\n",
    "from Plotting import *"
   ]
  },
  {
   "cell_type": "markdown",
   "id": "875f0150-6120-4b5a-ae86-c45a62750a46",
   "metadata": {
    "tags": []
   },
   "source": [
    "# Define the model"
   ]
  },
  {
   "cell_type": "code",
   "execution_count": null,
   "id": "98a55584-89f6-4d9c-bde6-bb3e328a2e1a",
   "metadata": {},
   "outputs": [],
   "source": [
    "start_point = [-1.0, 0]\n",
    "duration = 1.6\n",
    "traj_len = 32\n",
    "D_t = 0.15\n",
    "mu = 0.1\n",
    "dt = duration/traj_len\n",
    "tran_coeff = np.sqrt(2*D_t*dt)\n",
    "pot_coeff = mu*dt"
   ]
  },
  {
   "cell_type": "code",
   "execution_count": null,
   "id": "158cbcb9-8873-4fc3-9654-7a48e873cdfa",
   "metadata": {},
   "outputs": [],
   "source": [
    "params = {'x_0' :  1.0,\n",
    "          'k_x' :  2.0,\n",
    "          'k_y' :  10.0,\n",
    "          'k_BH' : 15,\n",
    "          'target': 7.5}\n",
    "Double_Well = DoubleWell(params=params)\n",
    "Double_Well.plot_energy_surface_DW()"
   ]
  },
  {
   "cell_type": "markdown",
   "id": "6e1b35c1-5f25-4da1-8da0-7a96f69fdcb0",
   "metadata": {
    "tags": []
   },
   "source": [
    "# Create a network\n",
    "#### Runtime ~2 min"
   ]
  },
  {
   "cell_type": "code",
   "execution_count": null,
   "id": "b0632e70-7b12-4293-9112-340785e065ab",
   "metadata": {
    "tags": []
   },
   "outputs": [],
   "source": [
    "Affine_Wave_params = {'num_filters': 32,\n",
    "                      'kernel_size': 3,\n",
    "                      'num_dilated_conv_layers': 3}\n",
    "\n",
    "Num_Layers = 2    # number of scales\n",
    "FLOWS_pre_LAYER = 1    # For passive, leave this as 1\n",
    "Pos_flows_per_Flow = 10    # Number of complete positional flow steps\n",
    "\n",
    "Ang_flows_per_Flow = 0.00    # Leave this as 0\n",
    "CCs = 0.00    # For passive, leave this as 0\n",
    "Pos_CC_per_Flow = 0.00    # For passive, leave this as 0\n",
    "Ang_CC_per_Flow = 0.00    # Leave this as 0, this term lets positions affect angles\n",
    "\n",
    "Net = CreateFlowNet(Num_Layers, FLOWS_pre_LAYER,\n",
    "                    Pos_flows_per_Flow, Ang_flows_per_Flow, \n",
    "                    CCs, Pos_CC_per_Flow, Ang_CC_per_Flow,\n",
    "                    Affine_WaveNet=Wave_unit, Affine_WaveParams=Affine_Wave_params, \n",
    "                    potential_grad=Double_Well.batch_gradient,\n",
    "                    start=start_point, tran_coeff=tran_coeff, pot_coeff=pot_coeff,\n",
    "                    max_len=traj_len, dim=3)"
   ]
  },
  {
   "cell_type": "markdown",
   "id": "d022d967-5083-4842-82d1-83b5dc3ab154",
   "metadata": {
    "tags": []
   },
   "source": [
    "# Explore Using FlowRES\n",
    "#### Runtime ~60 min"
   ]
  },
  {
   "cell_type": "code",
   "execution_count": null,
   "id": "3dcaff66-06f7-4841-a9bc-790ef8eb9939",
   "metadata": {},
   "outputs": [],
   "source": [
    "num_chains = 30000\n",
    "num_iterations = 100\n",
    "\n",
    "FlowRES_Passive_DoubleWell = FlowRes_MCMC(Net, num_chains, Chain_Initialiser_Passive, Double_Well)    # define the FlowRES framework for this system\n",
    "FlowRES_Passive_DoubleWell.Compile_ML_Model(batch_size=512, lr=0.001)    # compile the network so that it is ready to train    \n",
    "\n",
    "all_FlowRES_hists = FlowRES_Passive_DoubleWell.Explore(iterations=num_iterations, return_hists=True, hist_bins=np.linspace(-2,2,200))[0]"
   ]
  },
  {
   "cell_type": "markdown",
   "id": "4ee6566e-d5da-4cff-afac-2ad7da964466",
   "metadata": {
    "tags": []
   },
   "source": [
    "# Compare FlowRES to Direct Integration"
   ]
  },
  {
   "cell_type": "code",
   "execution_count": null,
   "id": "b4e9bf9c-f713-494f-a047-0bb5d5bd408b",
   "metadata": {},
   "outputs": [],
   "source": [
    "# Load in Direct Integration data for comparison\n",
    "Validation_histogram = np.load(sys.path[0] + '/Direct_Integration_Data/Validation_histogram.npy')    # load a histogram generated from 10000 direct integration paths\n",
    "Direct_integration_histogram = np.load(sys.path[0] + '/Direct_Integration_Data/Direct_integration_histogram.npy')    # load a histogram generated from 50000 direct integration paths\n",
    "Direct_Integration_JSD_vs_Proposals = np.load(sys.path[0] + '/Direct_Integration_Data/Direct_Integration_JSD_vs_Proposals.npy')    # load a JSD with validation ensemble against proposal number for direct integration"
   ]
  },
  {
   "cell_type": "markdown",
   "id": "381837e3-3179-41ad-9d37-b3b21ed82d29",
   "metadata": {},
   "source": [
    "## Plot JSDs with Validation Ensemble"
   ]
  },
  {
   "cell_type": "code",
   "execution_count": null,
   "id": "206556c6-a59b-42a5-a128-a4cfc89c926b",
   "metadata": {},
   "outputs": [],
   "source": [
    "bins = np.linspace(-2,2,200)\n",
    "all_FlowRES_JSDs = np.zeros(num_iterations+1)\n",
    "\n",
    "for i, FlowRES_histogram in enumerate(all_FlowRES_hists):    # plot a histogram for the FlowRES ensemble at each iteration and work out its JSD from the validation histogram\n",
    "    all_FlowRES_JSDs[i] = JSD(FlowRES_histogram, Validation_histogram)\n",
    "    \n",
    "Num_Paths_Proposed_FlowRES = num_chains * np.arange(num_iterations+1)\n",
    "FlowRES_JSD_vs_Proposals = np.stack([Num_Paths_Proposed_FlowRES, all_FlowRES_JSDs])"
   ]
  },
  {
   "cell_type": "code",
   "execution_count": null,
   "id": "2d0befb6-3268-4498-8505-d0c48bbf0486",
   "metadata": {},
   "outputs": [],
   "source": [
    "compare_JSDS(FlowRES_JSD_vs_Proposals, Direct_Integration_JSD_vs_Proposals)"
   ]
  },
  {
   "cell_type": "markdown",
   "id": "e5254be7-7e5e-4d64-b631-6b0ba217e56c",
   "metadata": {},
   "source": [
    "## FlowRES and Direct Integration Histograms"
   ]
  },
  {
   "cell_type": "code",
   "execution_count": null,
   "id": "91cf6f04-27bf-41ce-90a5-600a2dd6a076",
   "metadata": {},
   "outputs": [],
   "source": [
    "# plot histograms\n",
    "Compare_Hists(FlowRES_histogram, Validation_histogram, bins, Double_Well,\n",
    "              text=str(params['k_BH']) + r'$\\ k_{\\rm B} T_{\\rm eff}$')"
   ]
  }
 ],
 "metadata": {
  "kernelspec": {
   "display_name": "Python 3 (ipykernel)",
   "language": "python",
   "name": "python3"
  },
  "language_info": {
   "codemirror_mode": {
    "name": "ipython",
    "version": 3
   },
   "file_extension": ".py",
   "mimetype": "text/x-python",
   "name": "python",
   "nbconvert_exporter": "python",
   "pygments_lexer": "ipython3",
   "version": "3.7.13"
  }
 },
 "nbformat": 4,
 "nbformat_minor": 5
}

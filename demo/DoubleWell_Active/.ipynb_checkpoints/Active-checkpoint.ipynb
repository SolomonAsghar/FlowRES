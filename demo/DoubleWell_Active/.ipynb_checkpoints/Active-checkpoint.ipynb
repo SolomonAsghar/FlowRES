{
 "cells": [
  {
   "cell_type": "markdown",
   "id": "9321b035-6d9d-4c4e-8129-a598cb6333ef",
   "metadata": {
    "tags": []
   },
   "source": [
    "### Imports "
   ]
  },
  {
   "cell_type": "code",
   "execution_count": null,
   "id": "2bb77c2e-07be-4d3e-9a1e-60f09c656429",
   "metadata": {},
   "outputs": [],
   "source": [
    "import os\n",
    "os.environ['TF_CPP_MIN_LOG_LEVEL'] = '3' # Silence tensorflow alerts\n",
    "import tensorflow as tf"
   ]
  },
  {
   "cell_type": "code",
   "execution_count": null,
   "id": "c3b85fcf-8124-4f32-96df-1eadef4847ee",
   "metadata": {},
   "outputs": [],
   "source": [
    "import sys\n",
    "path_to_software_folder = sys.path[0][:-22] + 'software/'\n",
    "sys.path.append(path_to_software_folder) # Add the software folder to path, note that outside of the \"demo\" folder you will need to manually set \"path_to_software_folder\"\n",
    "from DoubleWell import DoubleWell\n",
    "from ProcessingNets import *\n",
    "from Network_Active import *\n",
    "from FlowRES_MCMC_Active import *\n",
    "from Plotting import *"
   ]
  },
  {
   "cell_type": "markdown",
   "id": "875f0150-6120-4b5a-ae86-c45a62750a46",
   "metadata": {
    "tags": []
   },
   "source": [
    "# Define the model"
   ]
  },
  {
   "cell_type": "code",
   "execution_count": null,
   "id": "98a55584-89f6-4d9c-bde6-bb3e328a2e1a",
   "metadata": {},
   "outputs": [],
   "source": [
    "start_point = [-1.0, 0]\n",
    "duration = 1.6\n",
    "traj_len = 32\n",
    "D_t = 0.15\n",
    "mu = 0.1\n",
    "v = 1.0\n",
    "D_r = 2.5\n",
    "dt = duration/traj_len\n",
    "tran_coeff = np.sqrt(2*D_t*dt)\n",
    "rot_coeff = np.sqrt(2*D_r*dt)\n",
    "act_coeff = v*dt\n",
    "pot_coeff = mu*dt"
   ]
  },
  {
   "cell_type": "code",
   "execution_count": null,
   "id": "158cbcb9-8873-4fc3-9654-7a48e873cdfa",
   "metadata": {},
   "outputs": [],
   "source": [
    "params = {'x_0' :  1.0,\n",
    "          'k_x' :  2.0,\n",
    "          'k_y' :  10.0,\n",
    "          'k_BH' : 15,\n",
    "          'target': 7.5}\n",
    "Double_Well = DoubleWell(params=params)\n",
    "Double_Well.plot_energy_surface_DW()"
   ]
  },
  {
   "cell_type": "markdown",
   "id": "6e1b35c1-5f25-4da1-8da0-7a96f69fdcb0",
   "metadata": {
    "tags": []
   },
   "source": [
    "# Create a network\n",
    "#### Runtime ~6 min"
   ]
  },
  {
   "cell_type": "code",
   "execution_count": null,
   "id": "b0632e70-7b12-4293-9112-340785e065ab",
   "metadata": {
    "tags": []
   },
   "outputs": [],
   "source": [
    "Affine_Wave_params = {'num_filters': 32,    # For demo performance, we use a smaller network than in the main paper (32 vs 64)\n",
    "                      'kernel_size': 3,\n",
    "                      'num_dilated_conv_layers': 3}\n",
    "\n",
    "Num_Layers = 2    # number of scales\n",
    "FLOWS_per_LAYER = 5    # number of complete flow steps per flow\n",
    "Pos_flows_per_Flow = 2    # number of position flow steps per complete flow step\n",
    "\n",
    "Ang_flows_per_Flow = 0    # Leave this as 0\n",
    "CCs = 1    # Just leave this as one\n",
    "Pos_CC_per_Flow = 1    # Number of affine cross coupling layers per complete flow step\n",
    "Ang_CC_per_Flow = 0    # Leave this as 0, this term lets positions affect angles\n",
    "\n",
    "Net = CreateFlowNet(Num_Layers, FLOWS_per_LAYER,\n",
    "                    Pos_flows_per_Flow, Ang_flows_per_Flow, \n",
    "                    CCs, Pos_CC_per_Flow, Ang_CC_per_Flow,\n",
    "                    Affine_WaveNet=Wave_unit, Affine_WaveParams=Affine_Wave_params, \n",
    "                    potential_grad=Double_Well.batch_gradient,\n",
    "                    start=start_point, tran_coeff=tran_coeff, rot_coeff=rot_coeff, act_coeff=act_coeff, pot_coeff=pot_coeff,\n",
    "                    max_len=traj_len, dim=3)"
   ]
  },
  {
   "cell_type": "markdown",
   "id": "d022d967-5083-4842-82d1-83b5dc3ab154",
   "metadata": {
    "tags": []
   },
   "source": [
    "# Explore Using FlowRES\n",
    "#### Runtime ~90 min"
   ]
  },
  {
   "cell_type": "code",
   "execution_count": null,
   "id": "3dcaff66-06f7-4841-a9bc-790ef8eb9939",
   "metadata": {},
   "outputs": [],
   "source": [
    "num_chains = 30000    # For demo performance, we use fewer chains than in the main paper (3e4 vs 5e4)\n",
    "num_iterations = 100    # For demo performance, we use fewer iterations than in the main paper (100 vs 150)\n",
    "\n",
    "FlowRES_Active_DoubleWell = FlowRes_MCMC(Net, num_chains, Chain_Initialiser_Active, Double_Well)    # define the FlowRES framework for this system\n",
    "FlowRES_Active_DoubleWell.Compile_ML_Model(batch_size=512, lr=0.00005)    # compile the network so that it is ready to train    \n",
    "\n",
    "all_FlowRES_hists = FlowRES_Active_DoubleWell.Explore(iterations=num_iterations, return_hists=True, hist_bins=np.linspace(-2,2,200))[0]"
   ]
  },
  {
   "cell_type": "markdown",
   "id": "4ee6566e-d5da-4cff-afac-2ad7da964466",
   "metadata": {
    "tags": []
   },
   "source": [
    "# Compare FlowRES to Direct Integration"
   ]
  },
  {
   "cell_type": "code",
   "execution_count": null,
   "id": "b4e9bf9c-f713-494f-a047-0bb5d5bd408b",
   "metadata": {},
   "outputs": [],
   "source": [
    "# Load in Direct Integration data for comparison\n",
    "Validation_histogram = np.load(sys.path[0] + '/Direct_Integration_Data/Validation_histogram.npy')    # load a histogram generated from 10000 direct integration paths\n",
    "Direct_integration_histogram = np.load(sys.path[0] + '/Direct_Integration_Data/Direct_Integration_histogram.npy')    # load a histogram generated from 50000 direct integration paths\n",
    "Direct_Integration_JSD_vs_Proposals = np.load(sys.path[0] + '/Direct_Integration_Data/Direct_Integration_JSD_vs_Proposals.npy')    # load a JSD with validation ensemble against proposal number for direct integration"
   ]
  },
  {
   "cell_type": "markdown",
   "id": "381837e3-3179-41ad-9d37-b3b21ed82d29",
   "metadata": {},
   "source": [
    "## Plot JSDs with Validation Ensemble"
   ]
  },
  {
   "cell_type": "code",
   "execution_count": null,
   "id": "206556c6-a59b-42a5-a128-a4cfc89c926b",
   "metadata": {},
   "outputs": [],
   "source": [
    "bins = np.linspace(-2,2,200)\n",
    "all_FlowRES_JSDs = np.zeros(num_iterations+1)\n",
    "\n",
    "for i, FlowRES_histogram in enumerate(all_FlowRES_hists):    # plot a histogram for the FlowRES ensemble at each iteration and work out its JSD from the validation histogram\n",
    "    all_FlowRES_JSDs[i] = JSD(FlowRES_histogram, Validation_histogram)\n",
    "    \n",
    "Num_Paths_Proposed_FlowRES = num_chains * np.arange(num_iterations+1)\n",
    "FlowRES_JSD_vs_Proposals = np.stack([Num_Paths_Proposed_FlowRES, all_FlowRES_JSDs])"
   ]
  },
  {
   "cell_type": "code",
   "execution_count": null,
   "id": "2d0befb6-3268-4498-8505-d0c48bbf0486",
   "metadata": {},
   "outputs": [],
   "source": [
    "compare_JSDS(FlowRES_JSD_vs_Proposals, Direct_Integration_JSD_vs_Proposals)"
   ]
  },
  {
   "cell_type": "markdown",
   "id": "e5254be7-7e5e-4d64-b631-6b0ba217e56c",
   "metadata": {},
   "source": [
    "## FlowRES and Direct Integration Histograms"
   ]
  },
  {
   "cell_type": "code",
   "execution_count": null,
   "id": "91cf6f04-27bf-41ce-90a5-600a2dd6a076",
   "metadata": {},
   "outputs": [],
   "source": [
    "# plot histograms\n",
    "Compare_Hists(FlowRES_histogram, Validation_histogram, bins, Double_Well,\n",
    "              text=str(params['k_BH']) + r'$\\ k_{\\rm B} T_{\\rm eff}$')"
   ]
  },
  {
   "cell_type": "code",
   "execution_count": null,
   "id": "22e683d9-e0e5-40a2-a4e0-c85ffb308898",
   "metadata": {},
   "outputs": [],
   "source": [
    "def compare_JSDS(FlowRES_JSD_vs_Proposals, Direct_Integration_JSD_vs_Proposals, plot_deviation_from_target=True):\n",
    "    y_label = 'JSD with Validation Distribution'\n",
    "    if plot_deviation_from_target:\n",
    "        y_label = 'Devaiation from Target JSD'\n",
    "        Target_JSD = Direct_Integration_JSD_vs_Proposals[1,-1]\n",
    "        Direct_Integration_JSD_vs_Proposals[1] = Direct_Integration_JSD_vs_Proposals[1] - Target_JSD\n",
    "        FlowRES_JSD_vs_Proposals[1] = FlowRES_JSD_vs_Proposals[1] - Target_JSD\n",
    "    \n",
    "    plt.rcParams['figure.figsize'] = 12,8\n",
    "    plt.rcParams['font.size'] = 30\n",
    "    plt.figure(dpi=500)\n",
    "\n",
    "    red = '#3C91E6'\n",
    "    blue = '#BF0603'\n",
    "\n",
    "    lw_1 = 3\n",
    "    lw_2 = 5\n",
    "    plt.plot(*FlowRES_JSD_vs_Proposals, color=blue, linewidth=lw_1)\n",
    "    plt.plot(*Direct_Integration_JSD_vs_Proposals, color=red, linewidth=lw_1)\n",
    "    plt.xlabel('Num. Paths Proposed')\n",
    "    plt.ylabel(y_label)\n",
    "    plt.xscale('log')\n",
    "    plt.xlim(Direct_Integration_JSD_vs_Proposals[0,0])\n",
    "    plt.ylim(0)\n",
    "\n",
    "    legend_elements = [Line2D([0], [0], color=blue, linewidth=4, label='FlowRES'),\n",
    "                       Line2D([0], [0], color=red, linewidth=4, label='Langevin')]\n",
    "    plt.legend(handles = legend_elements, ncol=1, fontsize=25, frameon=False)\n",
    "\n",
    "    plt.show()"
   ]
  },
  {
   "cell_type": "code",
   "execution_count": null,
   "id": "c0851182-7a61-4253-825e-62e6736a1fd5",
   "metadata": {},
   "outputs": [],
   "source": [
    "def JSD(Hist, val_Hist):\n",
    "    Counts_x = np.sum(Hist, axis=0)\n",
    "    Counts_y = np.sum(Hist, axis=1)\n",
    "    val_Counts_x = np.sum(val_Hist, axis=0)\n",
    "    val_Counts_y = np.sum(Hist, axis=1)\n",
    "    JS_x = scipy.spatial.distance.jensenshannon(Counts_x, val_Counts_x, axis=(0))\n",
    "    JS_y = scipy.spatial.distance.jensenshannon(Counts_y, val_Counts_y, axis=(0))\n",
    "    return (JS_x + JS_y)/2"
   ]
  },
  {
   "cell_type": "code",
   "execution_count": null,
   "id": "c9768690-e115-4b7d-9759-cf39045bf326",
   "metadata": {},
   "outputs": [],
   "source": [
    "plasma = matplotlib.colormaps['plasma']\n",
    "plasma_new_colors = plasma(np.linspace(0,1,256)**0.5)\n",
    "plasma_2 = ListedColormap(plasma_new_colors)"
   ]
  },
  {
   "cell_type": "code",
   "execution_count": null,
   "id": "00feb52d-fa76-4593-827e-3cdc235799b0",
   "metadata": {},
   "outputs": [],
   "source": [
    "plasma = matplotlib.colormaps['plasma']\n",
    "plasma_new_colors = plasma(np.linspace(0,1,256)**0.5)\n",
    "plasma_2 = ListedColormap(plasma_new_colors)\n",
    "\n",
    "height_ratios = [0.75,2]\n",
    "width_ratios = [2,0.75]\n",
    "figsize = 8*(2.75/2)\n",
    "plt.rcParams['figure.figsize'] = figsize,figsize*1.033\n",
    "plt.rcParams['font.size'] = 25\n",
    "gs = gridspec.GridSpec(2, 2, height_ratios=height_ratios, width_ratios=width_ratios) \n",
    "gs.update(wspace=0.0, hspace=0.0)\n",
    "\n",
    "def Get_Density(counts, bins):\n",
    "    '''\n",
    "    Convert a count to a density\n",
    "    '''\n",
    "    return counts / (sum(counts) * np.diff(bins))\n",
    "\n",
    "\n",
    "def Hist2D(Trajs, bins):\n",
    "    Trajs = np.concatenate(Trajs)\n",
    "    Trajs_x = Trajs[:,0].flatten()\n",
    "    Trajs_y = Trajs[:,1].flatten()\n",
    "    return np.histogram2d(Trajs_x, Trajs_y, bins, density=True)[0].T\n",
    "\n",
    "\n",
    "def clip_reac(Trajs, potential, include_last=True, return_lens=False):\n",
    "    '''\n",
    "    Return a mask where only valid trajs are True\n",
    "    '''\n",
    "    energies = potential.energy(Trajs, input_mode='Batch')\n",
    "    energy_mask = energies < potential.params['target']\n",
    "    right_mask = Trajs[:,:,0] > 0\n",
    "    r_e_mask = np.logical_and(energy_mask,right_mask)\n",
    "    not_r_e_mask = np.logical_not(r_e_mask)\n",
    "    unreactive_mask = np.all(not_r_e_mask, axis=1)\n",
    "    reactive_mask = np.logical_not(unreactive_mask)\n",
    "    \n",
    "    reac_Trajs = Trajs[reactive_mask]\n",
    "    arg_reactive = np.argwhere(r_e_mask[reactive_mask])\n",
    "    ind_of_first_reac = np.unique(arg_reactive[:,0], return_index=True)[1]\n",
    "    timestep_of_first_reac = arg_reactive[ind_of_first_reac,1]\n",
    "\n",
    "    clipped_Trajs = []\n",
    "    if include_last is True:\n",
    "        timestep_of_first_reac += 1\n",
    "    for traj, first in zip(reac_Trajs,timestep_of_first_reac):\n",
    "        clipped_Trajs.append(traj[:first])\n",
    "    \n",
    "    if return_lens is False:\n",
    "        return clipped_Trajs\n",
    "    else:\n",
    "        return clipped_Trajs, timestep_of_first_reac+1\n",
    "\n",
    "    \n",
    "def Compare_Hists(NF_Hist_2D, Target_Hist_2D, bins, potential, text, path,  Add_Scale_Bar=True, cmap=plasma_2):\n",
    "    fsz = 33\n",
    "    \n",
    "    plt.rcParams['figure.figsize'] = figsize, figsize*1.03\n",
    "    barrier_height = int(potential.params['k_BH'])\n",
    "    main, ax1 = Plot_pc_Hist(NF_Hist_2D,  bins, c1='#3C91E6', lw=5, plot_target_well=True, potential=potential,\n",
    "                 barrier_height=barrier_height, Add_Scale_Bar=Add_Scale_Bar, cmap=cmap, text=text)\n",
    "    ax1.plot(*path, color='white', linewidth=3)\n",
    "    Plot_pc_Hist(Target_Hist_2D, bins, plot_xy=False, c1='#FDAB33', linestyle= (0, (10,5)), alph=0.0, lw=6, Add_Scale_Bar=False, zorder=1, cmap=cmap, text=text)\n",
    "    cbaxes = inset_axes(ax1,\n",
    "                        width=\"80%\",  # width = 10% of parent_bbox width\n",
    "                        height=\"3.0%\",  # height : 50%\n",
    "                        loc='lower center')\n",
    "    cb = plt.colorbar(main, cax=cbaxes, ticklocation='top', \n",
    "                      label=r'$\\hat{\\rho}(x,y)$', orientation=\"horizontal\")\n",
    "    cbarticks = list(np.arange(*cbaxes.get_xlim(), 0.5))\n",
    "    highest_p1 = np.floor((cbaxes.get_xlim()[1])*10)/10\n",
    "    if not cbarticks[-1] >= highest_p1:\n",
    "        cbarticks += [highest_p1]\n",
    "    cbartick_labels = [str(cbarticks[0])] + ['' for i in range(len(cbarticks)-2)] + [str(cbarticks[-1])]\n",
    "    cb.set_ticks(cbarticks, labels=cbartick_labels, fontsize=fsz)\n",
    "    cbaxes.tick_params(axis='both', colors='white')\n",
    "    cb.outline.set_edgecolor('white')\n",
    "    cb.set_label(r'$\\hat{\\rho}(x,y)$', color='white', labelpad=-15, fontsize=fsz)\n",
    "    plt.show()\n",
    "    \n",
    "    \n",
    "def Plot_pc_Hist(Hist_2D, bins, gs=gs, figsize=15, c1='blue', alph = 0.21, plot_xy=True, linestyle='solid', lw=5.0,\n",
    "                 plot_target_well=False, potential=None, barrier_height=None, Add_Scale_Bar=True, zorder=1, cmap=None, text=None):\n",
    "    fsz = 33\n",
    "    plt.rcParams['font.size'] = 35\n",
    "    ypad = 20\n",
    "    spine_color = '#0C0786'\n",
    "    \n",
    "    Counts_x = np.sum(Hist_2D, axis=0)\n",
    "    Counts_y = np.sum(Hist_2D, axis=1)\n",
    "    \n",
    "    Counts_x = Get_Density(Counts_x, bins)\n",
    "    Counts_y = Get_Density(Counts_y, bins)\n",
    "    \n",
    "    ax0 = plt.subplot(gs[0,0])\n",
    "    ax1 = plt.subplot(gs[1,0])\n",
    "    ax2 = plt.subplot(gs[1,1])\n",
    "\n",
    "    # x \n",
    "    ax0.stairs(Counts_x, bins, color=c1, linewidth=lw, linestyle=linestyle, zorder=zorder)\n",
    "    ax0.stairs(Counts_x, bins, color=c1, fill=True, alpha=alph, zorder=zorder)\n",
    "    ax0.axes.get_xaxis().set_visible(False)\n",
    "    ax0.set_xlim(bins[0],bins[-1])\n",
    "    ax0.yaxis.label.set_color(spine_color)\n",
    "    ax0.tick_params(axis='y', colors=spine_color)\n",
    "    ax0.set_ylabel(r'$\\rho(x)$', rotation=0, labelpad=-50, y=1.01)\n",
    "    yticks = list(np.arange(*ax0.get_ylim(), 0.5)[1:])\n",
    "    ytick_labels = ['' for i in range(len(yticks[:-1]))] + yticks[-1:]\n",
    "    ax0.yaxis.set_ticks(yticks, labels=ytick_labels)\n",
    "    \n",
    "    # Move left y-axis and bottom x-axis to centre, passing through (0,0)\n",
    "    ax0.spines['left'].set_position('center')\n",
    "    # Eliminate upper and right axes\n",
    "    ax0.spines['right'].set_color('none')\n",
    "    ax0.spines['top'].set_color('none')\n",
    "    ax0.spines['left'].set_linewidth(2.0)\n",
    "    ax0.spines['left'].set_color(spine_color)\n",
    "    ax0.yaxis.set_tick_params(width=2.0)\n",
    "        \n",
    "    # y \n",
    "    ax2.stairs(Counts_y, bins, color=c1, linewidth=lw, orientation='horizontal',  linestyle=linestyle, zorder=zorder)\n",
    "    ax2.stairs(Counts_y, bins, color=c1, fill=True, alpha=alph, orientation='horizontal', zorder=zorder)\n",
    "    ax2.axes.get_yaxis().set_visible(False)\n",
    "    ax2.set_ylim(bins[0],bins[-1])\n",
    "    ax2.xaxis.label.set_color(spine_color)\n",
    "    ax2.tick_params(axis='x', colors=spine_color)\n",
    "    \n",
    "    ax2.set_xlabel(r'$\\rho(y)$', labelpad=-65, x=1.3)\n",
    "    ax2.xaxis.set_ticks([1])\n",
    "    \n",
    "    # Move left y-axis and bottom x-axis to centre, passing through (0,0)\n",
    "    ax2.spines['bottom'].set_position('center')\n",
    "    # Eliminate upper and right axes\n",
    "    ax2.spines['right'].set_color('none')\n",
    "    ax2.spines['top'].set_color('none')\n",
    "    ax2.spines['bottom'].set_linewidth(2.0)\n",
    "    ax2.spines['bottom'].set_color(spine_color)\n",
    "    ax2.xaxis.set_tick_params(width=2.0)\n",
    "    xticks = list(np.arange(*ax2.get_xlim(), 0.5)[1:])\n",
    "    xtick_labels = ['' for i in range(len(xticks[:-1]))] + xticks[-1:]\n",
    "    ax2.xaxis.set_ticks(xticks, labels=xtick_labels)\n",
    "    \n",
    "    if plot_xy is True:\n",
    "        # x y\n",
    "        main = ax1.imshow(Hist_2D, interpolation='nearest', origin='lower',\n",
    "                   extent=[bins[0], bins[-1], bins[0], bins[-1]], cmap=cmap)\n",
    "        ax1.set_xticks([])\n",
    "        ax1.set_yticks([])\n",
    "        \n",
    "        if plot_target_well is True:\n",
    "            x_lim=1.75\n",
    "            alt_x_1s = np.linspace(0,x_lim, 100)\n",
    "            x_2s = np.linspace(-x_lim,x_lim, 100)\n",
    "            alt_X1grid, alt_X2grid = np.meshgrid(alt_x_1s, x_2s) \n",
    "            alt_Xs = np.vstack([alt_X1grid.flatten(), alt_X2grid.flatten()]).T\n",
    "            alt_energies = potential.energy(alt_Xs)\n",
    "            alt_energies = alt_energies.reshape((100,100))\n",
    "            ax1.contour(alt_X1grid, alt_X2grid, alt_energies, levels=[potential.params['target']], colors='white', linewidths=5, linestyles='--')\n",
    "            ax1.plot(-1,0, marker='X', markerfacecolor='white', markeredgecolor='black', linewidth=1, markersize=20, zorder=100)\n",
    "                \n",
    "        # Add scale bar #\n",
    "        if Add_Scale_Bar is True:\n",
    "            rect = patches.Rectangle((-1.85, 1.80), 1, 0.05, linewidth=1, edgecolor='None', facecolor='white')\n",
    "            ax1.add_patch(rect)      \n",
    "            ax1.text(-1.35, 1.725, \"1\", color='white', fontsize=fsz,\n",
    "                     horizontalalignment='center', verticalalignment='top')\n",
    "        \n",
    "        ax1.text(1.85, 1.85, text, color='white',\n",
    "                 horizontalalignment='right', verticalalignment='top')\n",
    "        \n",
    "        legend_elements = [Line2D([0], [0], color='#3C91E6', linewidth=6, label='FlowRES'),\n",
    "                           Line2D([0], [0], color='#FDAB33', linewidth=6, linestyle='--', label='Validation')]\n",
    "        plt.legend(loc=(0.04,1.05), handles = legend_elements, ncol=1, fontsize=27.5, frameon=False)\n",
    "        \n",
    "        return main, ax1"
   ]
  },
  {
   "cell_type": "code",
   "execution_count": null,
   "id": "767ff80a-7e4a-460f-90c9-7993bb819e4c",
   "metadata": {},
   "outputs": [],
   "source": []
  }
 ],
 "metadata": {
  "kernelspec": {
   "display_name": "Python 3 (ipykernel)",
   "language": "python",
   "name": "python3"
  },
  "language_info": {
   "codemirror_mode": {
    "name": "ipython",
    "version": 3
   },
   "file_extension": ".py",
   "mimetype": "text/x-python",
   "name": "python",
   "nbconvert_exporter": "python",
   "pygments_lexer": "ipython3",
   "version": "3.7.13"
  },
  "toc-autonumbering": true,
  "toc-showmarkdowntxt": true
 },
 "nbformat": 4,
 "nbformat_minor": 5
}
